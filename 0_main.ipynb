{
 "cells": [
  {
   "cell_type": "markdown",
   "metadata": {
    "collapsed": true
   },
   "source": [
    "# COCOMA - Fair Division"
   ]
  },
  {
   "cell_type": "markdown",
   "metadata": {},
   "source": [
    "Ce notebook présente quelques extensions de l'article suivant :\n",
    "\n",
    "_Marc Kilgour, Rudolf Vetschera: “Two-player fair division of indivisible items: Comparison\n",
    "of algorithms”, European Journal of Operational Research 2018_\n",
    "\n",
    "Nous avons décidé d'étudier deux pistes différentes, qui sont chacune explorées dans leur notebook correspondant : \n",
    "\n",
    "* [Généralisation pour n agents](extensions_n_agents.ipynb)\n",
    "* [Etude avec un plus grand nombre de ressources](extensions_more_items.ipynb)\n",
    "\n",
    "Le reste de ce notebook présente les choix et l'architecture qui ont été mis en place pour tester les algorithmes.\n"
   ]
  },
  {
   "cell_type": "markdown",
   "metadata": {},
   "source": [
    "Tout d'abord, l'outil et les algorithmes ont été écrits de manière à ce que le nombre de ressources soit un multiple du nombre d'agent, afin de rester cohérent avec les hypothèses de l'article. Il faut aussi que chaque algorithme retourne une allocation pour chaque agent qui soit de la même taille et qu'aucun item ne soit délaissé."
   ]
  },
  {
   "cell_type": "markdown",
   "metadata": {},
   "source": [
    "Pour implémenter et tester, facilement et rapidement, différents algorithmes de négociation, nous avons mis en place une architecture qui est composé des classes suivantes : \n",
    "\n",
    "* __Agent__ : Représente un agent négociateur (Préférences, allocations, etc). Pour le moment, uniquement les préférences de Borda sont utilisées.\n",
    "* __Problem__ : Représente un problème, c'est-à-dire les agents et leur préférences, ainsi que les items en jeu. Permet aussi de vérifier les quatres propriétés de Borda : _borda proportionnal_, _borda optimal_, _borda maximum sum_ et _borda max min_.\n",
    "* __ProblemSet__ : Réprésente un ensemble d'instances d'un même problème, en modifiant les préférences des agents. Sert aussi à lancer des benchmarks pour vérifier les propriétés de Borda des allocations retournées par différents algorithmes\n",
    "* __Sequence__ : Réprésente l'ordre de passage des agents selon la méthode choisie. Pour le moment, nous avons implémenté _Round Robin_ et _Balanced_.\n",
    "* __Algorithm__ : Représente l'éxécution d'un algorithme de négociation. En héritant de _AbstractAlgorithm_, il suffit de définir la méthode _\\_compute_ pour que l'algo s'intègre au framework.\n",
    "* __Database__ : Permet de générer des noms d'agents et d'items aléatoires"
   ]
  },
  {
   "cell_type": "markdown",
   "metadata": {},
   "source": [
    "Deux éxécutions types sont possibles :\n",
    "\n",
    "* __Simple__ - Résolution d'un problème avec un algorithme, selon une séquence donnée.\n",
    "* __Benchmark__ - Résolution d'un grand nombre d'instances d'un problème avec les algorithme souhaité, selon une séquence donnée.\n",
    "\n",
    "Nous allons vous les présenter rapidement."
   ]
  },
  {
   "cell_type": "markdown",
   "metadata": {},
   "source": [
    "### Benchmark\n",
    "\n",
    "#### Principe\n",
    "Cette éxécution permet de tester des algorithmes face à un jeu de problèmes qui sont identiques, si ce n'est les préférences des agents qui sont uniques pour chaque instance. Il est possible de spécifier une limite au nombre d'instances, mais par défaut, toutes les permutations possibles sont générés. C'est-à-dire qu'avec 3 agents et 6 items, environ 518 000 instances sont générées.\n",
    "\n",
    "Le benchmark va donc ensuite éxécuter chaque algorithme au jeu de données puis vérifiées pour chaque résultat, les allocations qui vérifient les propriétés de Borda. Ces informations sont ensuite compilées dans un graphique.\n",
    "\n",
    "#### Fonctionnement\n",
    "La première partie consiste à définir un problème. C'est à dire le nombre d'agents et le nombre de ressources"
   ]
  },
  {
   "cell_type": "code",
   "execution_count": 1,
   "metadata": {},
   "outputs": [],
   "source": [
    "from src.Database import *\n",
    "from src.Problem import *\n",
    "from src.ProblemSet import *\n",
    "from src.Sequence import *\n",
    "from src.Algorithm import *\n",
    "\n",
    "# Load database\n",
    "db = Database(\"./\")\n",
    "\n",
    "# Define a problem\n",
    "nbAgents = 3\n",
    "nbItems = nbAgents * 2\n",
    "initial_pb = Problem(db.get_random_agents_names(nbAgents), db.get_random_items_names(nbItems))"
   ]
  },
  {
   "cell_type": "markdown",
   "metadata": {},
   "source": [
    "Ensuite, il faut initialiser un ensemble d'instances du problème voulu, en spécifiant les algorithmes que l'on veut tester et le nombre d'instances que l'on souhaite"
   ]
  },
  {
   "cell_type": "code",
   "execution_count": 2,
   "metadata": {},
   "outputs": [],
   "source": [
    "# Create a set of different instances of a problem\n",
    "algorithms = [BottomUpAlgorithm, TrumpAlgorithm]\n",
    "limit = 100\n",
    "pb_set = ProblemSet(initial_pb, algorithms, limit)"
   ]
  },
  {
   "cell_type": "markdown",
   "metadata": {},
   "source": [
    "Enfin, il ne reste plus qu'à lancer le benchmark selon une séquence."
   ]
  },
  {
   "cell_type": "code",
   "execution_count": 3,
   "metadata": {},
   "outputs": [
    {
     "name": "stdout",
     "output_type": "stream",
     "text": [
      "|-=-=-=-=-=-= [ STARTING BENCHMARK ] =-=-=-=-=-=-=|\n",
      "|-=-=-=-=-=-=-=-=-= [ Problem ]-=-=-=-=-=-=-=-=-=|\n",
      "|\n",
      "| Name : Agents_3_Items_6\n",
      "|\n",
      "| [3] Agents :\n",
      "|\t1 : Agent Gauthie\n",
      "|\t\t Items : set()\n",
      "|\t\t Utility : 0\n",
      "|\t\t Rankings : phone > toilet > mirror > purse > socks > vase\n",
      "|\t2 : Agent Alice\n",
      "|\t\t Items : set()\n",
      "|\t\t Utility : 0\n",
      "|\t\t Rankings : toilet > vase > socks > purse > mirror > phone\n",
      "|\t3 : Agent Annette\n",
      "|\t\t Items : set()\n",
      "|\t\t Utility : 0\n",
      "|\t\t Rankings : mirror > phone > vase > purse > toilet > socks\n",
      "|\n",
      "| [6] Items :\n",
      "|\t1 : purse\n",
      "|\t2 : socks\n",
      "|\t3 : toilet\n",
      "|\t4 : mirror\n",
      "|\t5 : vase\n",
      "|\t6 : phone\n",
      "|\n",
      "|-=-=-=-=-=-=-=-=-=-=-=-=-=-=-=-=-=-=-=-=-=-=-=-=|\n",
      "|-=-=-=-=-=-=-=-=-= [ SUMMARY ]-=-=-=-=-=-=-=-=-=|\n",
      "|\n",
      "| Problem         : Agents_3_Items_6\n",
      "| Algorithms      : ['BottomUpAlgorithm', 'TrumpAlgorithm']\n",
      "| Sequence        : (ROUND_ROBIN) - ['Gauthie', 'Alice', 'Annette', 'Gauthie', 'Alice', 'Annette']\n",
      "| Nb of instances : 100\n",
      "| Nb of agents    : 3\n",
      "| Nb of items     : 6\n",
      "|\n",
      "|-=-=-=-=-=-=-=-=-=-=-=-=-=-=-=-=-=-=-=-=-=-=-=-=|\n",
      "|-=-=-=-=-=-=-=-=- [ BEGIN ] -=-=-=-=-=-=-=-=-=-=-|\n",
      "\n",
      "---------- Testing : BottomUpAlgorithm\n",
      "In progress .................................................. Done !\n",
      "\n",
      "---------- Testing : TrumpAlgorithm\n",
      "In progress .................................................. Done !\n",
      "\n",
      "|-=-=-=-=-=-=-=-=-= [ END ] =-=-=-=-=-=-=-=-=-=-=-|\n"
     ]
    }
   ],
   "source": [
    "# Test with a specific sequence\n",
    "seq = Sequence.generate(initial_pb, SequenceType.ROUND_ROBIN, True)\n",
    "pb_set.run(seq)"
   ]
  },
  {
   "cell_type": "markdown",
   "metadata": {},
   "source": [
    "Pour visualiser les résultats, il suffit de lancer la commande suivante :"
   ]
  },
  {
   "cell_type": "code",
   "execution_count": 4,
   "metadata": {},
   "outputs": [
    {
     "data": {
      "image/png": "[encoded data removed]",
      "text/plain": [
       "<Figure size 432x288 with 1 Axes>"
      ]
     },
     "metadata": {
      "needs_background": "light"
     },
     "output_type": "display_data"
    },
    {
     "data": {
      "text/plain": [
       "<Figure size 432x288 with 0 Axes>"
      ]
     },
     "metadata": {},
     "output_type": "display_data"
    }
   ],
   "source": [
    "pb_set.show_results()"
   ]
  },
  {
   "cell_type": "markdown",
   "metadata": {},
   "source": [
    "Sur la figure, nous pouvons voir pour chaque algorithme testé, le pourcentage d'allocations trouvées qui vérifient chaque propriété de Borda"
   ]
  },
  {
   "cell_type": "markdown",
   "metadata": {},
   "source": [
    "### Simple\n",
    "\n",
    "#### Principe\n",
    "Cette éxécution permet d'éxécuter un algorithme sur un problème et une séquence donnés. Ce mode d'éxécution sert surtout à observer le comportement de l'algorithme de négociation, grâce aux traces.\n",
    "\n",
    "#### Fonctionnement\n",
    "L'organisation est similaire au mode d'éxecution précédent. Si l'algorithme a réussi à trouver une solution, alors il vérifie chaque propriété de Borda. Dans le cas contraire, la raison est donnée lorsque ce dernier échoue."
   ]
  },
  {
   "cell_type": "code",
   "execution_count": 5,
   "metadata": {},
   "outputs": [
    {
     "name": "stdout",
     "output_type": "stream",
     "text": [
      "|-=-=-=-=-=-=-=-=-= [ Status ]-=-=-=-=-=-=-=-=-=|\n",
      "|\n",
      "| Algorithm\t: TrumpAlgorithm\n",
      "| Sequence\t: (ROUND_ROBIN) - ['Eve', 'Alban', 'Gauthie', 'Eve', 'Alban', 'Gauthie']\n",
      "| Status\t: INITIALIZED\n",
      "|\n",
      "|-=-=-=-=-=-=-=-=-= [ Problem ]-=-=-=-=-=-=-=-=-=|\n",
      "|\n",
      "| Name : Agents_3_Items_6\n",
      "|\n",
      "| [3] Agents :\n",
      "|\t1 : Agent Eve\n",
      "|\t\t Items : set()\n",
      "|\t\t Utility : 0\n",
      "|\t\t Rankings : towel > bow > computer > tire swing > sailboat > drawer\n",
      "|\t2 : Agent Gauthie\n",
      "|\t\t Items : set()\n",
      "|\t\t Utility : 0\n",
      "|\t\t Rankings : tire swing > towel > computer > sailboat > bow > drawer\n",
      "|\t3 : Agent Alban\n",
      "|\t\t Items : set()\n",
      "|\t\t Utility : 0\n",
      "|\t\t Rankings : bow > towel > drawer > computer > tire swing > sailboat\n",
      "|\n",
      "| [6] Items :\n",
      "|\t1 : towel\n",
      "|\t2 : bow\n",
      "|\t3 : sailboat\n",
      "|\t4 : drawer\n",
      "|\t5 : tire swing\n",
      "|\t6 : computer\n",
      "|\n",
      "|-=-=-=-=-=-=-=-=-=-=-=-=-=-=-=-=-=-=-=-=-=-=-=-=|\n",
      "\n",
      "|-=-=-=-=-=-=-=-=-=-=-=-=-=-=-=-=-=-=-=-=-=-=-=|\n",
      "|-=-=-=-=-=-=-=-=-= [ START ]-=-=-=-=-=-=-=-=-=|\n",
      "|-=-=-=-=-=-=-=-=-=-=-=-=-=-=-=-=-=-=-=-=-=-=-=|\n",
      "\n",
      "... Considering rank 1\n",
      "----- Round 1 -----\n",
      "Remaining sequence ['Alban', 'Gauthie', 'Eve', 'Alban', 'Gauthie']\n",
      "... Considering agent : Eve\n",
      "... Unallocated items {'towel', 'bow', 'computer', 'sailboat', 'drawer', 'tire swing'}\n",
      "... Least valued items by other agents : {'sailboat', 'drawer'}\n",
      "... Most valued item : sailboat\n",
      "... Giving item sailboat to Eve\n",
      "----- Round 2 -----\n",
      "Remaining sequence ['Gauthie', 'Eve', 'Alban', 'Gauthie']\n",
      "... Considering agent : Alban\n",
      "... Unallocated items {'towel', 'bow', 'drawer', 'tire swing', 'computer'}\n",
      "... Least valued items by other agents : {'drawer', 'tire swing'}\n",
      "... Most valued item : drawer\n",
      "... Giving item drawer to Alban\n",
      "----- Round 3 -----\n",
      "Remaining sequence ['Eve', 'Alban', 'Gauthie']\n",
      "... Considering agent : Gauthie\n",
      "... Unallocated items {'towel', 'computer', 'bow', 'tire swing'}\n",
      "... Least valued items by other agents : {'bow', 'tire swing'}\n",
      "... Most valued item : tire swing\n",
      "... Giving item tire swing to Gauthie\n",
      "----- Round 4 -----\n",
      "Remaining sequence ['Alban', 'Gauthie']\n",
      "... Considering agent : Eve\n",
      "... Unallocated items {'towel', 'computer', 'bow'}\n",
      "... Least valued items by other agents : {'computer', 'bow'}\n",
      "... Most valued item : bow\n",
      "... Giving item bow to Eve\n",
      "----- Round 5 -----\n",
      "Remaining sequence ['Gauthie']\n",
      "... Considering agent : Alban\n",
      "... Unallocated items {'towel', 'computer'}\n",
      "... Least valued items by other agents : {'computer'}\n",
      "... Most valued item : computer\n",
      "... Giving item computer to Alban\n",
      "----- Round 6 -----\n",
      "Remaining sequence []\n",
      "... Considering agent : Gauthie\n",
      "... Unallocated items {'towel'}\n",
      "... Least valued items by other agents : {'towel'}\n",
      "... Most valued item : towel\n",
      "... Giving item towel to Gauthie\n",
      "... Considering rank 4\n",
      "----- Round 7 -----\n",
      "Remaining sequence []\n",
      "... Considering agent : Eve\n",
      "... Unallocated items set()\n",
      "!!! ABORT !!!  No envy free allocation\n",
      "\n",
      "|-=-=-=-=-=-=-=-=-=-=-=-=-=-=-=-=-=-=-=-=-=-=|\n",
      "|-=-=-=-=-=-=-=-=-= [ END ]-=-=-=-=-=-=-=-=-=|\n",
      "|-=-=-=-=-=-=-=-=-=-=-=-=-=-=-=-=-=-=-=-=-=-=|\n",
      "\n",
      "|-=-=-=-=-=-=-=-=-= [ Status ]-=-=-=-=-=-=-=-=-=|\n",
      "|\n",
      "| Algorithm\t: TrumpAlgorithm\n",
      "| Sequence\t: (ROUND_ROBIN) - ['Eve', 'Alban', 'Gauthie', 'Eve', 'Alban', 'Gauthie']\n",
      "| Status\t: FAILED\n",
      "| Reason\t: No envy free allocation\n",
      "|\n",
      "|-=-=-=-=-=-=-=-=-= [ Problem ]-=-=-=-=-=-=-=-=-=|\n",
      "|\n",
      "| Name : Agents_3_Items_6\n",
      "|\n",
      "| [3] Agents :\n",
      "|\t1 : Agent Eve\n",
      "|\t\t Items : {'sailboat', 'bow'}\n",
      "|\t\t Utility : 7\n",
      "|\t\t Rankings : towel > bow > computer > tire swing > sailboat > drawer\n",
      "|\t2 : Agent Gauthie\n",
      "|\t\t Items : {'towel', 'tire swing'}\n",
      "|\t\t Utility : 11\n",
      "|\t\t Rankings : tire swing > towel > computer > sailboat > bow > drawer\n",
      "|\t3 : Agent Alban\n",
      "|\t\t Items : {'computer', 'drawer'}\n",
      "|\t\t Utility : 7\n",
      "|\t\t Rankings : bow > towel > drawer > computer > tire swing > sailboat\n",
      "|\n",
      "| [6] Items :\n",
      "|\t1 : towel\n",
      "|\t2 : bow\n",
      "|\t3 : sailboat\n",
      "|\t4 : drawer\n",
      "|\t5 : tire swing\n",
      "|\t6 : computer\n",
      "|\n",
      "|-=-=-=-=-=-=-=-=-=-=-=-=-=-=-=-=-=-=-=-=-=-=-=-=|\n",
      "\n"
     ]
    }
   ],
   "source": [
    "from src.Database import *\n",
    "from src.Problem import *\n",
    "from src.ProblemSet import *\n",
    "from src.Sequence import *\n",
    "from src.Algorithm import *\n",
    "\n",
    "# Load database\n",
    "db = Database(\"./\")\n",
    "\n",
    "# Define a problem\n",
    "nbAgents = 3\n",
    "nbItems = nbAgents * 2\n",
    "pb = Problem(db.get_random_agents_names(nbAgents), db.get_random_items_names(nbItems))\n",
    "\n",
    "# Define an algorithm\n",
    "trump_algo = TrumpAlgorithm(pb)\n",
    "\n",
    "# Solve the problem according to a specific sequence\n",
    "seq = Sequence.generate(pb, SequenceType.ROUND_ROBIN, True)\n",
    "trump_algo.compute(seq)"
   ]
  },
  {
   "cell_type": "code",
   "execution_count": null,
   "metadata": {},
   "outputs": [],
   "source": []
  }
 ],
 "metadata": {
  "kernelspec": {
   "display_name": "Python 3",
   "language": "python",
   "name": "python3"
  },
  "language_info": {
   "codemirror_mode": {
    "name": "ipython",
    "version": 3
   },
   "file_extension": ".py",
   "mimetype": "text/x-python",
   "name": "python",
   "nbconvert_exporter": "python",
   "pygments_lexer": "ipython3",
   "version": "3.7.0"
  }
 },
 "nbformat": 4,
 "nbformat_minor": 1
}
