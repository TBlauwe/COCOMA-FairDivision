{
 "cells": [
  {
   "cell_type": "code",
   "execution_count": null,
   "metadata": {},
   "outputs": [],
   "source": [
    "from src.Database import *\n",
    "from src.Problem import *\n",
    "from src.ProblemSet import *\n",
    "from src.Sequence import *\n",
    "from src.Algorithm import *"
   ]
  },
  {
   "cell_type": "code",
   "execution_count": null,
   "metadata": {},
   "outputs": [],
   "source": [
    "# Load database\n",
    "db = Database(path_to_resources=\"./\")"
   ]
  },
  {
   "cell_type": "code",
   "execution_count": null,
   "metadata": {},
   "outputs": [],
   "source": [
    "# Define the problem\n",
    "nbAgents = 2\n",
    "nbItemsPerAgent = 3\n",
    "nbItems = nbItemsPerAgent * nbAgents\n",
    "pb = Problem(db.get_random_agents_names(nbAgents), db.get_random_items_names(nbItems))"
   ]
  },
  {
   "cell_type": "code",
   "execution_count": null,
   "metadata": {},
   "outputs": [],
   "source": [
    "# Need to give some sequence otherwise the generation of a pb_set in benchmark won't work, but it doesn't affect original SA\n",
    "# (makes sense if we need to compare to other algorithms that need a sequence)\n",
    "\n",
    "# Test with a specific sequence\n",
    "seq = Sequence.generate(pb, SequenceType.ROUND_ROBIN, True)\n",
    "original_sa = OriginalSequentialAlgorithm(pb)\n",
    "original_sa.compute(seq)"
   ]
  }
 ],
 "metadata": {
  "kernelspec": {
   "display_name": "Python 3",
   "language": "python",
   "name": "python3"
  },
  "language_info": {
   "codemirror_mode": {
    "name": "ipython",
    "version": 3
   },
   "file_extension": ".py",
   "mimetype": "text/x-python",
   "name": "python",
   "nbconvert_exporter": "python",
   "pygments_lexer": "ipython3",
   "version": "3.6.5"
  }
 },
 "nbformat": 4,
 "nbformat_minor": 2
}
