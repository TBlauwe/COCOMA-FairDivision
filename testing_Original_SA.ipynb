{
 "cells": [
  {
   "cell_type": "code",
   "execution_count": null,
   "metadata": {},
   "outputs": [],
   "source": [
    "import os"
   ]
  },
  {
   "cell_type": "code",
   "execution_count": null,
   "metadata": {},
   "outputs": [],
   "source": [
    "# modify this path to where you have cloned the repo\n",
    "path_to_repo = \"/Users/mtrazzi/\"\n",
    "path = path_to_repo + \"COCOMA-FairDivision\"\n",
    "os.chdir(path)"
   ]
  },
  {
   "cell_type": "code",
   "execution_count": null,
   "metadata": {},
   "outputs": [],
   "source": [
    "pwd"
   ]
  },
  {
   "cell_type": "code",
   "execution_count": null,
   "metadata": {},
   "outputs": [],
   "source": [
    "from src.Database import *\n",
    "from src.Problem import *\n",
    "from src.ProblemSet import *\n",
    "from src.Sequence import *\n",
    "from src.Algorithm import *"
   ]
  },
  {
   "cell_type": "code",
   "execution_count": null,
   "metadata": {},
   "outputs": [],
   "source": [
    "# Load database\n",
    "db = Database(path_to_resources=\"./\")"
   ]
  },
  {
   "cell_type": "code",
   "execution_count": null,
   "metadata": {},
   "outputs": [],
   "source": [
    "# Define the problem\n",
    "nbAgents = 2\n",
    "nbItemsPerAgent = 2\n",
    "nbItems = nbItemsPerAgent * nbAgents\n",
    "initial_pb = Problem(db.get_random_agents_names(nbAgents), db.get_random_items_names(nbItems))"
   ]
  },
  {
   "cell_type": "code",
   "execution_count": null,
   "metadata": {},
   "outputs": [],
   "source": [
    "# Create a set of different instances of a problem\n",
    "algorithms = [OriginalSequentialAlgorithm]\n",
    "limit = 100\n",
    "pb_set = ProblemSet(initial_pb, algorithms, limit)"
   ]
  },
  {
   "cell_type": "code",
   "execution_count": null,
   "metadata": {},
   "outputs": [],
   "source": [
    "# Test with a specific sequence\n",
    "seq = Sequence.generate(initial_pb, SequenceType.ROUND_ROBIN, True)\n",
    "pb_set.run(seq)\n",
    "pb_set.show_results()"
   ]
  }
 ],
 "metadata": {
  "kernelspec": {
   "display_name": "Python 3",
   "language": "python",
   "name": "python3"
  },
  "language_info": {
   "codemirror_mode": {
    "name": "ipython",
    "version": 3
   },
   "file_extension": ".py",
   "mimetype": "text/x-python",
   "name": "python",
   "nbconvert_exporter": "python",
   "pygments_lexer": "ipython3",
   "version": "3.6.5"
  }
 },
 "nbformat": 4,
 "nbformat_minor": 2
}
